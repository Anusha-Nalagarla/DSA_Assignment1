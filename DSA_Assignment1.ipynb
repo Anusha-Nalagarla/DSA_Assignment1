{
 "cells": [
  {
   "cell_type": "raw",
   "id": "05f40142",
   "metadata": {},
   "source": [
    "Q1. Given an array of integers nums and an integer target, return indices of the two numbers such that they add up to target.\n",
    "You may assume that each input would have exactly one solution, and you may not use the same element twice."
   ]
  },
  {
   "cell_type": "code",
   "execution_count": 1,
   "id": "d807e2af",
   "metadata": {},
   "outputs": [
    {
     "data": {
      "text/plain": [
       "[0, 1]"
      ]
     },
     "execution_count": 1,
     "metadata": {},
     "output_type": "execute_result"
    }
   ],
   "source": [
    "def Q1(nums, target):\n",
    "    for i in range(len(nums)):\n",
    "        item = nums[i]\n",
    "        for j in range(len(nums)):\n",
    "            item2 = nums[j]\n",
    "            sum = item + item2\n",
    "            if sum == target:\n",
    "                return [i,j]\n",
    "Q1([2,7,11,15], 9)"
   ]
  },
  {
   "cell_type": "markdown",
   "id": "10d1ac5b",
   "metadata": {},
   "source": [
    "Q2. Given an integer array nums and an integer val, remove all occurrences of val in nums in-place. The order of the elements may be changed. Then return the number of elements in nums which are not equal to val.\n",
    "Consider the number of elements in nums which are not equal to val be k, to get accepted, you need to do the following things:\n",
    "•\tChange the array nums such that the first k elements of nums contain the elements which are not equal to val. The remaining elements of nums are not important as well as the size of nums.\n",
    "•\tReturn k."
   ]
  },
  {
   "cell_type": "code",
   "execution_count": 3,
   "id": "22967a9d",
   "metadata": {},
   "outputs": [
    {
     "data": {
      "text/plain": [
       "2"
      ]
     },
     "execution_count": 3,
     "metadata": {},
     "output_type": "execute_result"
    }
   ],
   "source": [
    "def Q2(nums, val):\n",
    "    count = 0\n",
    "    for i in range(len(nums)):\n",
    "        if nums[i] == val:\n",
    "            continue\n",
    "        nums[count] = nums[i]\n",
    "        count += 1\n",
    "\n",
    "    return count\n",
    "Q2([3,2,2,3], 3)"
   ]
  },
  {
   "cell_type": "markdown",
   "id": "f9c49813",
   "metadata": {},
   "source": [
    " Q3. Given a sorted array of distinct integers and a target value, return the index if the target is found. If not, return the index where it would be if it were inserted in order."
   ]
  },
  {
   "cell_type": "code",
   "execution_count": 8,
   "id": "714242f0",
   "metadata": {},
   "outputs": [
    {
     "data": {
      "text/plain": [
       "2"
      ]
     },
     "execution_count": 8,
     "metadata": {},
     "output_type": "execute_result"
    }
   ],
   "source": [
    "def Q3(nums, target):\n",
    "    j=len(nums)\n",
    "    for i in range(len(nums)):\n",
    "        if nums[i]>=target:\n",
    "            return i\n",
    "    return j\n",
    "\n",
    "Q3([1,3,5,6],5)"
   ]
  },
  {
   "cell_type": "markdown",
   "id": "f9f90184",
   "metadata": {},
   "source": [
    "Q4. You are given a large integer represented as an integer array digits, where each digits[i] is the ith digit of the integer. The digits are ordered from most significant to least significant in left-to-right order. The large integer does not contain any leading 0's.\n",
    "Increment the large integer by one and return the resulting array of digits."
   ]
  },
  {
   "cell_type": "code",
   "execution_count": 10,
   "id": "620d0239",
   "metadata": {},
   "outputs": [
    {
     "data": {
      "text/plain": [
       "[1, 2, 4]"
      ]
     },
     "execution_count": 10,
     "metadata": {},
     "output_type": "execute_result"
    }
   ],
   "source": [
    "def Q4(digits):\n",
    "    n = len(digits)\n",
    "    for i in range(n-1, -1, -1):\n",
    "        if digits[i] < 9:\n",
    "            digits[i] += 1\n",
    "            return digits\n",
    "        digits[i] = 0\n",
    "    n1 = [0] * (n+1)\n",
    "    n1[0] = 1\n",
    "    return n1\n",
    "Q4([1,2,3])"
   ]
  },
  {
   "cell_type": "markdown",
   "id": "043a282e",
   "metadata": {},
   "source": [
    "Q5. You are given two integer arrays nums1 and nums2, sorted in non-decreasing order, and two integers m and n, representing the number of elements in nums1 and nums2 respectively.\n",
    "Merge nums1 and nums2 into a single array sorted in non-decreasing order."
   ]
  },
  {
   "cell_type": "code",
   "execution_count": 43,
   "id": "0bc685aa",
   "metadata": {},
   "outputs": [
    {
     "name": "stdout",
     "output_type": "stream",
     "text": [
      "1 2 2 3 5 6 "
     ]
    }
   ],
   "source": [
    "def Q5(arr1, n1, arr2, n2):\n",
    "    arr3 = [None] * (n1 + n2)\n",
    "    i = 0\n",
    "    j = 0\n",
    "    k = 0\n",
    " \n",
    "    while i < n1 and j < n2:\n",
    "        if arr1[i] < arr2[j]:\n",
    "            arr3[k] = arr1[i]\n",
    "            k = k + 1\n",
    "            i = i + 1\n",
    "        else:\n",
    "            arr3[k] = arr2[j]\n",
    "            k = k + 1\n",
    "            j = j + 1\n",
    "    while i < n1:\n",
    "        arr3[k] = arr1[i];\n",
    "        k = k + 1\n",
    "        i = i + 1\n",
    " \n",
    "    while j < n2:\n",
    "        arr3[k] = arr2[j];\n",
    "        k = k + 1\n",
    "        j = j + 1\n",
    "    for i in range(n1 + n2):\n",
    "        print(str(arr3[i]), end = \" \")\n",
    " \n",
    "Q5([1,2,3,0,0,0], 3,[2,5,6], 3)"
   ]
  },
  {
   "cell_type": "markdown",
   "id": "53dd06ed",
   "metadata": {},
   "source": [
    "Q6. Given an integer array nums, return true if any value appears at least twice in the array, and return false if every element is distinct."
   ]
  },
  {
   "cell_type": "code",
   "execution_count": 20,
   "id": "e1699619",
   "metadata": {},
   "outputs": [
    {
     "data": {
      "text/plain": [
       "True"
      ]
     },
     "execution_count": 20,
     "metadata": {},
     "output_type": "execute_result"
    }
   ],
   "source": [
    "def Q6(nums):\n",
    "    for i in range(len(nums)):\n",
    "        for j in range(0, i):\n",
    "            if nums[i] == nums[j]:\n",
    "                return True\n",
    "    return False\n",
    "Q6([1,3,5,1])"
   ]
  },
  {
   "cell_type": "markdown",
   "id": "2c49de78",
   "metadata": {},
   "source": [
    "Q7. Given an integer array nums, move all 0's to the end of it while maintaining the relative order of the nonzero elements."
   ]
  },
  {
   "cell_type": "code",
   "execution_count": 34,
   "id": "8a2ba4ca",
   "metadata": {},
   "outputs": [
    {
     "data": {
      "text/plain": [
       "[12, 3, 1, 0, 0]"
      ]
     },
     "execution_count": 34,
     "metadata": {},
     "output_type": "execute_result"
    }
   ],
   "source": [
    "def Q7(nums):\n",
    "    nums.sort(reverse=True)\n",
    "    return nums\n",
    "Q7([0,1,0,3,12])"
   ]
  },
  {
   "cell_type": "markdown",
   "id": "22427d39",
   "metadata": {},
   "source": [
    "Q8. You have a set of integers s, which originally contains all the numbers from 1 to n. Unfortunately, due to some error, one of the numbers in s got duplicated to another number in the set, which results in repetition of one number and loss of another number."
   ]
  },
  {
   "cell_type": "code",
   "execution_count": 38,
   "id": "926f3eb1",
   "metadata": {},
   "outputs": [
    {
     "data": {
      "text/plain": [
       "[2, 3]"
      ]
     },
     "execution_count": 38,
     "metadata": {},
     "output_type": "execute_result"
    }
   ],
   "source": [
    "def Q8(nums):\n",
    "    j = {}  \n",
    "    k=[]\n",
    "    max = len(nums)\n",
    "    for i in nums:\n",
    "        if not i in j:\n",
    "            j[i] = True            \n",
    "        else:\n",
    "            k.append(i)\n",
    "    for i in range(1, max + 1):\n",
    "        if not i in j:\n",
    "            k.append(i)\n",
    "    return k\n",
    "\n",
    "Q8([1,2,2,4])"
   ]
  },
  {
   "cell_type": "code",
   "execution_count": null,
   "id": "9bf95511",
   "metadata": {},
   "outputs": [],
   "source": []
  }
 ],
 "metadata": {
  "kernelspec": {
   "display_name": "Python 3 (ipykernel)",
   "language": "python",
   "name": "python3"
  },
  "language_info": {
   "codemirror_mode": {
    "name": "ipython",
    "version": 3
   },
   "file_extension": ".py",
   "mimetype": "text/x-python",
   "name": "python",
   "nbconvert_exporter": "python",
   "pygments_lexer": "ipython3",
   "version": "3.9.12"
  }
 },
 "nbformat": 4,
 "nbformat_minor": 5
}
